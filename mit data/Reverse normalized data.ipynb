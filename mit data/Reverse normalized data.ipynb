{
 "cells": [
  {
   "cell_type": "code",
   "execution_count": 22,
   "metadata": {},
   "outputs": [],
   "source": [
    "import seaborn\n",
    "import pandas\n",
    "import codecs"
   ]
  },
  {
   "cell_type": "code",
   "execution_count": 23,
   "metadata": {},
   "outputs": [],
   "source": [
    "climate_normalized_by_nation = pandas.read_csv(\"climate_normalized_by_nation.csv\", dtype={'STATEFP': str, 'COUNTYFP': str})\n",
    "climate_normalized_by_state = pandas.read_csv(\"climate_normalized_by_state.csv\", dtype={'STATEFP': str, 'COUNTYFP': str})"
   ]
  },
  {
   "cell_type": "code",
   "execution_count": 24,
   "metadata": {},
   "outputs": [],
   "source": [
    "datasets = [\"M\", \"E\", \"N\"]\n",
    "years = [\"80_99\", \"00_19\", \"80_19\"]\n",
    "datagroups=[\"gw\", \"dry\"]\n",
    "dataids = [dataset+group+\"_\"+year for dataset in datasets for year in years for group in datagroups]"
   ]
  },
  {
   "cell_type": "code",
   "execution_count": 25,
   "metadata": {},
   "outputs": [],
   "source": [
    "def invert(dataid, df):\n",
    "    df[dataid] = 1-df[dataid]"
   ]
  },
  {
   "cell_type": "code",
   "execution_count": 26,
   "metadata": {},
   "outputs": [],
   "source": [
    "for dataid in dataids:\n",
    "    invert(dataid, climate_normalized_by_nation)\n",
    "    invert(dataid, climate_normalized_by_state)"
   ]
  },
  {
   "cell_type": "code",
   "execution_count": 27,
   "metadata": {},
   "outputs": [],
   "source": [
    "climate_normalized_by_nation.round(2).to_csv(\"climate_normalized_by_nation.csv\", index=False)\n",
    "climate_normalized_by_state.round(2).to_csv(\"climate_normalized_by_state.csv\", index=False)"
   ]
  },
  {
   "cell_type": "code",
   "execution_count": null,
   "metadata": {},
   "outputs": [],
   "source": []
  }
 ],
 "metadata": {
  "kernelspec": {
   "display_name": "Python 3",
   "language": "python",
   "name": "python3"
  },
  "language_info": {
   "codemirror_mode": {
    "name": "ipython",
    "version": 3
   },
   "file_extension": ".py",
   "mimetype": "text/x-python",
   "name": "python",
   "nbconvert_exporter": "python",
   "pygments_lexer": "ipython3",
   "version": "3.8.5"
  }
 },
 "nbformat": 4,
 "nbformat_minor": 4
}
