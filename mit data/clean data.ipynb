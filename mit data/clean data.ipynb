{
 "cells": [
  {
   "cell_type": "code",
   "execution_count": 25,
   "metadata": {},
   "outputs": [],
   "source": [
    "import seaborn\n",
    "import pandas\n",
    "import codecs"
   ]
  },
  {
   "cell_type": "code",
   "execution_count": 26,
   "metadata": {},
   "outputs": [],
   "source": [
    "demographics_to_keep = [\n",
    "    \"STATEFP\",\n",
    "    \"COUNTYFP\",\n",
    "    \"discuss\",\n",
    "    \"reducetax\",\n",
    "    \"CO2limits\",\n",
    "    \"localofficials\",\n",
    "    \"governor\",\n",
    "    \"congress\",\n",
    "    \"president\",\n",
    "    \"corporations\",\n",
    "    \"citizens\",\n",
    "    \"regulate\",\n",
    "    \"supportRPS\",\n",
    "    \"drilloffshore\",\n",
    "    \"drillANWR\",\n",
    "    \"fundrenewables\",\n",
    "    \"rebates\",\n",
    "    \"mediaweekly\",\n",
    "    \"prienv\",\n",
    "    \"teachGW\",\n",
    "    \"happening\",\n",
    "    \"human\",\n",
    "    \"consensus\",\n",
    "    \"worried\",\n",
    "    \"personal\",\n",
    "    \"harmUS\",\n",
    "    \"devharm\",\n",
    "    \"futuregen\",\n",
    "    \"harmplants\",\n",
    "    \"timing\",\n",
    "    \"affectweather\",\n",
    "    \"PerCapitapersonalincome2018\",\n",
    "    \"GDP2018\",\n",
    "    \"GDP2018PC\",\n",
    "    \"PercentPopulationUnder18\",\n",
    "    \"PercentPopulationOver65\",\n",
    "    \"PercentNonwhite\",\n",
    "    \"PercentofPopulationBelowPovertyLevel\",\n",
    "    \"UnemploymentRate\",\n",
    "    \"Populationpersquaremile2010\",\n",
    "    \"avg_risk_score_2_10\",\n",
    "    \"avg_risk_fsf_2020_100\",\n",
    "    \"count_property\",\n",
    "    \"AGLANDCROPINSURANCEACRES\",\n",
    "    \"AGLANDCROPLANDACRES\",\n",
    "    \"AGLANDINCLBUILDINGSASSETVALUEMEASUREDIN\",\n",
    "    \"AGLANDPASTURELANDACRES\",\n",
    "    \"AGLANDWOODLANDACRES\"\n",
    "]\n",
    "\n",
    "energy_employment_to_keep = [\n",
    "    \"STATEFP\",\n",
    "    \"COUNTYFP\",\n",
    "    \"RenewablesEmploymentPCTEmp\",\n",
    "    \"FossilEmploymentPCTEmp\",\n",
    "    \"EfficiencyEmploymentPCTEmp\",\n",
    "    \"TransmissionEmploymentPCTEmp\",\n",
    "    \"MotorVehiclesEmploymentPCTEmp\"\n",
    "]\n",
    "\n",
    "def delete_unused_energy_employment(df):\n",
    "    if 'RenewablesEmployment' in df:\n",
    "        return df[energy_employment_to_keep]\n",
    "    else:\n",
    "        return df\n",
    "\n",
    "def rename_state_county_ids(df):\n",
    "    if 'stateID' in df:\n",
    "        df[\"STATEFP\"] = df[\"stateID\"]\n",
    "        df[\"COUNTYFP\"] = df[\"countyID\"]\n",
    "    \n",
    "def delete_unused_demographics(df):\n",
    "    if 'discussOppose' in df:\n",
    "        return df[demographics_to_keep]\n",
    "    else:\n",
    "        return df\n",
    "\n",
    "def remove_county_state_names(df):\n",
    "    if 'county_State' in df:\n",
    "        del df['county_State']"
   ]
  },
  {
   "cell_type": "code",
   "execution_count": 27,
   "metadata": {},
   "outputs": [],
   "source": [
    "climate = pandas.read_csv(\"input data/climate.csv\", dtype={'STATEFP': str, 'COUNTYFP': str})\n",
    "demographics = pandas.read_csv(\"input data/county_level_raw.csv\", dtype={'STATEFP': str, 'COUNTYFP': str})\n",
    "energy_employment = pandas.read_csv(\"input data/energy_employment_raw.csv\", dtype={'STATEFP': str, 'COUNTYFP': str})"
   ]
  },
  {
   "cell_type": "code",
   "execution_count": 28,
   "metadata": {},
   "outputs": [
    {
     "ename": "KeyError",
     "evalue": "\"['STATEFP', 'COUNTYFP'] not in index\"",
     "output_type": "error",
     "traceback": [
      "\u001b[0;31m---------------------------------------------------------------------------\u001b[0m",
      "\u001b[0;31mKeyError\u001b[0m                                  Traceback (most recent call last)",
      "\u001b[0;32m<ipython-input-28-90ee7ad65ff8>\u001b[0m in \u001b[0;36m<module>\u001b[0;34m\u001b[0m\n\u001b[1;32m      1\u001b[0m \u001b[0mdemographics\u001b[0m \u001b[0;34m=\u001b[0m \u001b[0mdelete_unused_demographics\u001b[0m\u001b[0;34m(\u001b[0m\u001b[0mdemographics\u001b[0m\u001b[0;34m)\u001b[0m\u001b[0;34m\u001b[0m\u001b[0;34m\u001b[0m\u001b[0m\n\u001b[1;32m      2\u001b[0m \u001b[0mrename_state_county_ids\u001b[0m\u001b[0;34m(\u001b[0m\u001b[0menergy_employment\u001b[0m\u001b[0;34m)\u001b[0m\u001b[0;34m\u001b[0m\u001b[0;34m\u001b[0m\u001b[0m\n\u001b[0;32m----> 3\u001b[0;31m \u001b[0menergy_employment\u001b[0m \u001b[0;34m=\u001b[0m \u001b[0mdelete_unused_energy_employment\u001b[0m\u001b[0;34m(\u001b[0m\u001b[0menergy_employment\u001b[0m\u001b[0;34m)\u001b[0m\u001b[0;34m\u001b[0m\u001b[0;34m\u001b[0m\u001b[0m\n\u001b[0m\u001b[1;32m      4\u001b[0m \u001b[0mremove_county_state_names\u001b[0m\u001b[0;34m(\u001b[0m\u001b[0mdemographics\u001b[0m\u001b[0;34m)\u001b[0m\u001b[0;34m\u001b[0m\u001b[0;34m\u001b[0m\u001b[0m\n",
      "\u001b[0;32m<ipython-input-26-40bea5d974b1>\u001b[0m in \u001b[0;36mdelete_unused_energy_employment\u001b[0;34m(df)\u001b[0m\n\u001b[1;32m     61\u001b[0m \u001b[0;32mdef\u001b[0m \u001b[0mdelete_unused_energy_employment\u001b[0m\u001b[0;34m(\u001b[0m\u001b[0mdf\u001b[0m\u001b[0;34m)\u001b[0m\u001b[0;34m:\u001b[0m\u001b[0;34m\u001b[0m\u001b[0;34m\u001b[0m\u001b[0m\n\u001b[1;32m     62\u001b[0m     \u001b[0;32mif\u001b[0m \u001b[0;34m'RenewablesEmployment'\u001b[0m \u001b[0;32min\u001b[0m \u001b[0mdf\u001b[0m\u001b[0;34m:\u001b[0m\u001b[0;34m\u001b[0m\u001b[0;34m\u001b[0m\u001b[0m\n\u001b[0;32m---> 63\u001b[0;31m         \u001b[0;32mreturn\u001b[0m \u001b[0mdf\u001b[0m\u001b[0;34m[\u001b[0m\u001b[0menergy_employment_to_keep\u001b[0m\u001b[0;34m]\u001b[0m\u001b[0;34m\u001b[0m\u001b[0;34m\u001b[0m\u001b[0m\n\u001b[0m\u001b[1;32m     64\u001b[0m     \u001b[0;32melse\u001b[0m\u001b[0;34m:\u001b[0m\u001b[0;34m\u001b[0m\u001b[0;34m\u001b[0m\u001b[0m\n\u001b[1;32m     65\u001b[0m         \u001b[0;32mreturn\u001b[0m \u001b[0mdf\u001b[0m\u001b[0;34m\u001b[0m\u001b[0;34m\u001b[0m\u001b[0m\n",
      "\u001b[0;32m/usr/local/lib/python3.8/site-packages/pandas/core/frame.py\u001b[0m in \u001b[0;36m__getitem__\u001b[0;34m(self, key)\u001b[0m\n\u001b[1;32m   2906\u001b[0m             \u001b[0;32mif\u001b[0m \u001b[0mis_iterator\u001b[0m\u001b[0;34m(\u001b[0m\u001b[0mkey\u001b[0m\u001b[0;34m)\u001b[0m\u001b[0;34m:\u001b[0m\u001b[0;34m\u001b[0m\u001b[0;34m\u001b[0m\u001b[0m\n\u001b[1;32m   2907\u001b[0m                 \u001b[0mkey\u001b[0m \u001b[0;34m=\u001b[0m \u001b[0mlist\u001b[0m\u001b[0;34m(\u001b[0m\u001b[0mkey\u001b[0m\u001b[0;34m)\u001b[0m\u001b[0;34m\u001b[0m\u001b[0;34m\u001b[0m\u001b[0m\n\u001b[0;32m-> 2908\u001b[0;31m             \u001b[0mindexer\u001b[0m \u001b[0;34m=\u001b[0m \u001b[0mself\u001b[0m\u001b[0;34m.\u001b[0m\u001b[0mloc\u001b[0m\u001b[0;34m.\u001b[0m\u001b[0m_get_listlike_indexer\u001b[0m\u001b[0;34m(\u001b[0m\u001b[0mkey\u001b[0m\u001b[0;34m,\u001b[0m \u001b[0maxis\u001b[0m\u001b[0;34m=\u001b[0m\u001b[0;36m1\u001b[0m\u001b[0;34m,\u001b[0m \u001b[0mraise_missing\u001b[0m\u001b[0;34m=\u001b[0m\u001b[0;32mTrue\u001b[0m\u001b[0;34m)\u001b[0m\u001b[0;34m[\u001b[0m\u001b[0;36m1\u001b[0m\u001b[0;34m]\u001b[0m\u001b[0;34m\u001b[0m\u001b[0;34m\u001b[0m\u001b[0m\n\u001b[0m\u001b[1;32m   2909\u001b[0m \u001b[0;34m\u001b[0m\u001b[0m\n\u001b[1;32m   2910\u001b[0m         \u001b[0;31m# take() does not accept boolean indexers\u001b[0m\u001b[0;34m\u001b[0m\u001b[0;34m\u001b[0m\u001b[0;34m\u001b[0m\u001b[0m\n",
      "\u001b[0;32m/usr/local/lib/python3.8/site-packages/pandas/core/indexing.py\u001b[0m in \u001b[0;36m_get_listlike_indexer\u001b[0;34m(self, key, axis, raise_missing)\u001b[0m\n\u001b[1;32m   1252\u001b[0m             \u001b[0mkeyarr\u001b[0m\u001b[0;34m,\u001b[0m \u001b[0mindexer\u001b[0m\u001b[0;34m,\u001b[0m \u001b[0mnew_indexer\u001b[0m \u001b[0;34m=\u001b[0m \u001b[0max\u001b[0m\u001b[0;34m.\u001b[0m\u001b[0m_reindex_non_unique\u001b[0m\u001b[0;34m(\u001b[0m\u001b[0mkeyarr\u001b[0m\u001b[0;34m)\u001b[0m\u001b[0;34m\u001b[0m\u001b[0;34m\u001b[0m\u001b[0m\n\u001b[1;32m   1253\u001b[0m \u001b[0;34m\u001b[0m\u001b[0m\n\u001b[0;32m-> 1254\u001b[0;31m         \u001b[0mself\u001b[0m\u001b[0;34m.\u001b[0m\u001b[0m_validate_read_indexer\u001b[0m\u001b[0;34m(\u001b[0m\u001b[0mkeyarr\u001b[0m\u001b[0;34m,\u001b[0m \u001b[0mindexer\u001b[0m\u001b[0;34m,\u001b[0m \u001b[0maxis\u001b[0m\u001b[0;34m,\u001b[0m \u001b[0mraise_missing\u001b[0m\u001b[0;34m=\u001b[0m\u001b[0mraise_missing\u001b[0m\u001b[0;34m)\u001b[0m\u001b[0;34m\u001b[0m\u001b[0;34m\u001b[0m\u001b[0m\n\u001b[0m\u001b[1;32m   1255\u001b[0m         \u001b[0;32mreturn\u001b[0m \u001b[0mkeyarr\u001b[0m\u001b[0;34m,\u001b[0m \u001b[0mindexer\u001b[0m\u001b[0;34m\u001b[0m\u001b[0;34m\u001b[0m\u001b[0m\n\u001b[1;32m   1256\u001b[0m \u001b[0;34m\u001b[0m\u001b[0m\n",
      "\u001b[0;32m/usr/local/lib/python3.8/site-packages/pandas/core/indexing.py\u001b[0m in \u001b[0;36m_validate_read_indexer\u001b[0;34m(self, key, indexer, axis, raise_missing)\u001b[0m\n\u001b[1;32m   1302\u001b[0m             \u001b[0;32mif\u001b[0m \u001b[0mraise_missing\u001b[0m\u001b[0;34m:\u001b[0m\u001b[0;34m\u001b[0m\u001b[0;34m\u001b[0m\u001b[0m\n\u001b[1;32m   1303\u001b[0m                 \u001b[0mnot_found\u001b[0m \u001b[0;34m=\u001b[0m \u001b[0mlist\u001b[0m\u001b[0;34m(\u001b[0m\u001b[0mset\u001b[0m\u001b[0;34m(\u001b[0m\u001b[0mkey\u001b[0m\u001b[0;34m)\u001b[0m \u001b[0;34m-\u001b[0m \u001b[0mset\u001b[0m\u001b[0;34m(\u001b[0m\u001b[0max\u001b[0m\u001b[0;34m)\u001b[0m\u001b[0;34m)\u001b[0m\u001b[0;34m\u001b[0m\u001b[0;34m\u001b[0m\u001b[0m\n\u001b[0;32m-> 1304\u001b[0;31m                 \u001b[0;32mraise\u001b[0m \u001b[0mKeyError\u001b[0m\u001b[0;34m(\u001b[0m\u001b[0;34mf\"{not_found} not in index\"\u001b[0m\u001b[0;34m)\u001b[0m\u001b[0;34m\u001b[0m\u001b[0;34m\u001b[0m\u001b[0m\n\u001b[0m\u001b[1;32m   1305\u001b[0m \u001b[0;34m\u001b[0m\u001b[0m\n\u001b[1;32m   1306\u001b[0m             \u001b[0;31m# we skip the warning on Categorical\u001b[0m\u001b[0;34m\u001b[0m\u001b[0;34m\u001b[0m\u001b[0;34m\u001b[0m\u001b[0m\n",
      "\u001b[0;31mKeyError\u001b[0m: \"['STATEFP', 'COUNTYFP'] not in index\""
     ]
    }
   ],
   "source": [
    "demographics = delete_unused_demographics(demographics)\n",
    "rename_state_county_ids(energy_employment)\n",
    "energy_employment = delete_unused_energy_employment(energy_employment)\n",
    "remove_county_state_names(demographics)"
   ]
  },
  {
   "cell_type": "code",
   "execution_count": 29,
   "metadata": {},
   "outputs": [],
   "source": [
    "climate.round(2).to_csv(\"output data/climate.csv\", index=False)\n",
    "demographics.round(2).to_csv(\"output data/demographics.csv\", index=False)\n",
    "energy_employment.round(2).to_csv(\"output data/energy_employment.csv\", index=False)"
   ]
  },
  {
   "cell_type": "code",
   "execution_count": null,
   "metadata": {},
   "outputs": [],
   "source": []
  },
  {
   "cell_type": "code",
   "execution_count": null,
   "metadata": {},
   "outputs": [],
   "source": []
  }
 ],
 "metadata": {
  "kernelspec": {
   "display_name": "Python 3",
   "language": "python",
   "name": "python3"
  },
  "language_info": {
   "codemirror_mode": {
    "name": "ipython",
    "version": 3
   },
   "file_extension": ".py",
   "mimetype": "text/x-python",
   "name": "python",
   "nbconvert_exporter": "python",
   "pygments_lexer": "ipython3",
   "version": "3.8.9"
  }
 },
 "nbformat": 4,
 "nbformat_minor": 4
}
