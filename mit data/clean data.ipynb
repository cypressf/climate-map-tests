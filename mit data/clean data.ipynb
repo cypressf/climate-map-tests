{
 "cells": [
  {
   "cell_type": "code",
   "execution_count": 16,
   "metadata": {},
   "outputs": [],
   "source": [
    "import seaborn\n",
    "import pandas\n",
    "import codecs"
   ]
  },
  {
   "cell_type": "code",
   "execution_count": 28,
   "metadata": {},
   "outputs": [],
   "source": [
    "demographics_to_keep = [\n",
    "    \"TotalemploymentnumberofjobsUmp\",\n",
    "    \"FarmemploymentUmpPCT\",\n",
    "    \"MiningquarryingandoilandgasextractionUmpPCT\",\n",
    "    \"ConstructionUmpPCT\",\n",
    "    \"ForestryfishingandrelatedactivitiesUmpPCT\",\n",
    "    \"HealthcareandsocialassistanceUmpPCT\",\n",
    "    \"PerCapitapersonalincome2018\",\n",
    "    \"GDP2018\",\n",
    "    \"PercentPopulationUnder18\",\n",
    "    \"PercentPopulationOver65\",\n",
    "    \"PercentNonwhite\",\n",
    "    \"PercentofPopulationBelowPovertyLevel\",\n",
    "    \"UnemploymentRate\",\n",
    "    \"Populationpersquaremile2010\",\n",
    "    \"discuss\",\n",
    "    \"discussOppose\",\n",
    "    \"reducetax\",\n",
    "    \"reducetaxOppose\",\n",
    "    \"CO2limits\",\n",
    "    \"CO2limitsOppose\",\n",
    "    \"localofficials\",\n",
    "    \"localofficialsOppose\",\n",
    "    \"governor\",\n",
    "    \"governorOppose\",\n",
    "    \"congress\",\n",
    "    \"congressOppose\",\n",
    "    \"president\",\n",
    "    \"presidentOppose\",\n",
    "    \"corporations\",\n",
    "    \"corporationsOppose\",\n",
    "    \"citizens\",\n",
    "    \"citizensOppose\",\n",
    "    \"regulate\",\n",
    "    \"regulateOppose\",\n",
    "    \"supportRPS\",\n",
    "    \"supportRPSOppose\",\n",
    "    \"drilloffshore\",\n",
    "    \"drilloffshoreOppose\",\n",
    "    \"drillANWR\",\n",
    "    \"drillANWROppose\",\n",
    "    \"fundrenewables\",\n",
    "    \"fundrenewablesOppose\",\n",
    "    \"rebates\",\n",
    "    \"rebatesOppose\",\n",
    "    \"mediaweekly\",\n",
    "    \"mediaweeklyOppose\",\n",
    "    \"prienv\",\n",
    "    \"prienvOppose\",\n",
    "    \"teachGW\",\n",
    "    \"teachGWOppose\",\n",
    "    \"happening\",\n",
    "    \"happeningOppose\",\n",
    "    \"human\",\n",
    "    \"humanOppose\",\n",
    "    \"consensus\",\n",
    "    \"consensusOppose\",\n",
    "    \"worried\",\n",
    "    \"worriedOppose\",\n",
    "    \"personal\",\n",
    "    \"personalOppose\",\n",
    "    \"harmUS\",\n",
    "    \"harmUSOppose\",\n",
    "    \"devharm\",\n",
    "    \"devharmOppose\",\n",
    "    \"futuregen\",\n",
    "    \"futuregenOppose\",\n",
    "    \"harmplants\",\n",
    "    \"harmplantsOppose\",\n",
    "    \"timing\",\n",
    "    \"timingOppose\",\n",
    "    \"affectweather\",\n",
    "    \"affectweatherOppose\"\n",
    "]\n",
    "\n",
    "def delete_unused_demographics(df):\n",
    "    if 'discussOppose' in df:\n",
    "        return df[demographics_to_keep]\n",
    "    else:\n",
    "        return df\n",
    "\n",
    "def remove_county_state_names(df):\n",
    "    if 'county_State' in df:\n",
    "        del df['county_State']"
   ]
  },
  {
   "cell_type": "code",
   "execution_count": 29,
   "metadata": {},
   "outputs": [],
   "source": [
    "climate = pandas.read_csv(\"input data/climate.csv\", dtype={'STATEFP': str, 'COUNTYFP': str})\n",
    "demographics = pandas.read_csv(\"input data/county_level_raw.csv\", dtype={'STATEFP': str, 'COUNTYFP': str})"
   ]
  },
  {
   "cell_type": "code",
   "execution_count": null,
   "metadata": {},
   "outputs": [],
   "source": []
  },
  {
   "cell_type": "code",
   "execution_count": 30,
   "metadata": {},
   "outputs": [],
   "source": [
    "demographics = delete_unused_demographics(demographics)\n",
    "remove_county_state_names(demographics)"
   ]
  },
  {
   "cell_type": "code",
   "execution_count": 31,
   "metadata": {},
   "outputs": [],
   "source": [
    "climate.round(2).to_csv(\"output data/climate.csv\", index=False)\n",
    "demographics.round(2).to_csv(\"output data/demographics.csv\", index=False)"
   ]
  },
  {
   "cell_type": "code",
   "execution_count": null,
   "metadata": {},
   "outputs": [],
   "source": []
  }
 ],
 "metadata": {
  "kernelspec": {
   "display_name": "Python 3",
   "language": "python",
   "name": "python3"
  },
  "language_info": {
   "codemirror_mode": {
    "name": "ipython",
    "version": 3
   },
   "file_extension": ".py",
   "mimetype": "text/x-python",
   "name": "python",
   "nbconvert_exporter": "python",
   "pygments_lexer": "ipython3",
   "version": "3.8.5"
  }
 },
 "nbformat": 4,
 "nbformat_minor": 4
}
