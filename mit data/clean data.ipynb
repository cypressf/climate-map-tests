{
 "cells": [
  {
   "cell_type": "code",
   "execution_count": 1,
   "metadata": {},
   "outputs": [],
   "source": [
    "import seaborn\n",
    "import pandas\n",
    "import codecs"
   ]
  },
  {
   "cell_type": "code",
   "execution_count": 14,
   "metadata": {},
   "outputs": [],
   "source": [
    "demographics_to_keep = [\n",
    "    \"STATEFP\",\n",
    "    \"COUNTYFP\",\n",
    "    \"discuss\",\n",
    "    \"reducetax\",\n",
    "    \"CO2limits\",\n",
    "    \"localofficials\",\n",
    "    \"governor\",\n",
    "    \"congress\",\n",
    "    \"president\",\n",
    "    \"corporations\",\n",
    "    \"citizens\",\n",
    "    \"regulate\",\n",
    "    \"supportRPS\",\n",
    "    \"drilloffshore\",\n",
    "    \"drillANWR\",\n",
    "    \"fundrenewables\",\n",
    "    \"rebates\",\n",
    "    \"mediaweekly\",\n",
    "    \"prienv\",\n",
    "    \"teachGW\",\n",
    "    \"happening\",\n",
    "    \"human\",\n",
    "    \"consensus\",\n",
    "    \"worried\",\n",
    "    \"personal\",\n",
    "    \"harmUS\",\n",
    "    \"devharm\",\n",
    "    \"futuregen\",\n",
    "    \"harmplants\",\n",
    "    \"timing\",\n",
    "    \"affectweather\",\n",
    "    \"PerCapitapersonalincome2018\",\n",
    "    \"GDP2018\",\n",
    "    \"GDP2018PC\",\n",
    "    \"PercentPopulationUnder18\",\n",
    "    \"PercentPopulationOver65\",\n",
    "    \"PercentNonwhite\",\n",
    "    \"PercentofPopulationBelowPovertyLevel\",\n",
    "    \"UnemploymentRate\",\n",
    "    \"Populationpersquaremile2010\",\n",
    "    \"avg_risk_score_2_10\",\n",
    "    \"avg_risk_fsf_2020_100\",\n",
    "    \"count_property\",\n",
    "    \"AGLANDCROPINSURANCEACRES\",\n",
    "    \"AGLANDCROPLANDACRES\",\n",
    "    \"AGLANDINCLBUILDINGSASSETVALUEMEASUREDIN\",\n",
    "    \"AGLANDPASTURELANDACRES\",\n",
    "    \"AGLANDWOODLANDACRES\"\n",
    "]\n",
    "\n",
    "energy_employment_to_keep = [\n",
    "    \"STATEFP\",\n",
    "    \"COUNTYFP\",\n",
    "    \"RenewablesEmploymentPCTEmp\",\n",
    "    \"FossilEmploymentPCTEmp\",\n",
    "    \"EfficiencyEmploymentPCTEmp\",\n",
    "    \"TransmissionEmploymentPCTEmp\",\n",
    "    \"MotorVehiclesEmploymentPCTEmp\"\n",
    "]\n",
    "\n",
    "state_data_to_keep = [\n",
    "    \"STATEFP\",\n",
    "    \"TotalEnergyExpendituremilliondollars\",\n",
    "    \"Totalenergyexpenditurepercapitadollarspercapita\",\n",
    "    \"TotalResidentialEnergyExpendituremilliondollars\",\n",
    "    \"ResidentialEnergyExpenditurepercapitadollarspercapita\",\n",
    "    \"TotalTransportationEnergyExpendituremildollars\",\n",
    "    \"TransportationEnergyExpenditurepercapitadollars\"\n",
    "]\n",
    "\n",
    "def multiply_gdp_per_cap_by_1000(df):\n",
    "    df[\"GDP2018PC\"] = df[\"GDP2018PC\"] * 1000\n",
    "\n",
    "def delete_unused_energy_employment(df):\n",
    "    return df[energy_employment_to_keep]\n",
    "\n",
    "def rename_state_county_ids(df):\n",
    "    df[\"STATEFP\"] = df[\"stateID\"]\n",
    "    df[\"COUNTYFP\"] = df[\"countyID\"]\n",
    "\n",
    "def rename_state_ids(df):\n",
    "    df[\"STATEFP\"] = df[\"statecode\"]\n",
    "    \n",
    "def delete_unused_demographics(df):\n",
    "    return df[demographics_to_keep]\n",
    "\n",
    "def delete_unused_state_level(df):\n",
    "    return df[state_data_to_keep]\n",
    "\n",
    "def remove_county_state_names(df):\n",
    "    del df['county_State']"
   ]
  },
  {
   "cell_type": "code",
   "execution_count": 17,
   "metadata": {},
   "outputs": [],
   "source": [
    "climate = pandas.read_csv(\"input data/climate.csv\", dtype={'STATEFP': str, 'COUNTYFP': str})\n",
    "demographics = pandas.read_csv(\"input data/county_level_raw.csv\", dtype={'STATEFP': str, 'COUNTYFP': str})\n",
    "state_level = pandas.read_csv(\"input data/state_level_raw.csv\", dtype={'statecode': str})\n",
    "energy_employment = pandas.read_csv(\"input data/energy_employment_raw.csv\", dtype={'STATEFP': str, 'COUNTYFP': str})\n",
    "\n",
    "demographics = delete_unused_demographics(demographics)\n",
    "multiply_gdp_per_cap_by_1000(demographics)\n",
    "rename_state_county_ids(energy_employment)\n",
    "energy_employment = delete_unused_energy_employment(energy_employment)\n",
    "rename_state_ids(state_level)\n",
    "state_level = delete_unused_state_level(state_level)"
   ]
  },
  {
   "cell_type": "code",
   "execution_count": 20,
   "metadata": {},
   "outputs": [
    {
     "ename": "FileNotFoundError",
     "evalue": "[Errno 2] No such file or directory: 'ouput data/state_level.csv'",
     "output_type": "error",
     "traceback": [
      "\u001b[0;31m---------------------------------------------------------------------------\u001b[0m",
      "\u001b[0;31mFileNotFoundError\u001b[0m                         Traceback (most recent call last)",
      "\u001b[0;32m<ipython-input-20-ba87d0833df7>\u001b[0m in \u001b[0;36m<module>\u001b[0;34m\u001b[0m\n\u001b[1;32m      2\u001b[0m \u001b[0mdemographics\u001b[0m\u001b[0;34m.\u001b[0m\u001b[0mround\u001b[0m\u001b[0;34m(\u001b[0m\u001b[0;36m2\u001b[0m\u001b[0;34m)\u001b[0m\u001b[0;34m.\u001b[0m\u001b[0mto_csv\u001b[0m\u001b[0;34m(\u001b[0m\u001b[0;34m\"output data/demographics.csv\"\u001b[0m\u001b[0;34m,\u001b[0m \u001b[0mindex\u001b[0m\u001b[0;34m=\u001b[0m\u001b[0;32mFalse\u001b[0m\u001b[0;34m)\u001b[0m\u001b[0;34m\u001b[0m\u001b[0;34m\u001b[0m\u001b[0m\n\u001b[1;32m      3\u001b[0m \u001b[0menergy_employment\u001b[0m\u001b[0;34m.\u001b[0m\u001b[0mround\u001b[0m\u001b[0;34m(\u001b[0m\u001b[0;36m2\u001b[0m\u001b[0;34m)\u001b[0m\u001b[0;34m.\u001b[0m\u001b[0mto_csv\u001b[0m\u001b[0;34m(\u001b[0m\u001b[0;34m\"output data/energy_employment.csv\"\u001b[0m\u001b[0;34m,\u001b[0m \u001b[0mindex\u001b[0m\u001b[0;34m=\u001b[0m\u001b[0;32mFalse\u001b[0m\u001b[0;34m)\u001b[0m\u001b[0;34m\u001b[0m\u001b[0;34m\u001b[0m\u001b[0m\n\u001b[0;32m----> 4\u001b[0;31m \u001b[0mstate_level\u001b[0m\u001b[0;34m.\u001b[0m\u001b[0mround\u001b[0m\u001b[0;34m(\u001b[0m\u001b[0;36m2\u001b[0m\u001b[0;34m)\u001b[0m\u001b[0;34m.\u001b[0m\u001b[0mto_csv\u001b[0m\u001b[0;34m(\u001b[0m\u001b[0;34m\"ouput data/state_level.csv\"\u001b[0m\u001b[0;34m,\u001b[0m \u001b[0mindex\u001b[0m\u001b[0;34m=\u001b[0m\u001b[0;32mFalse\u001b[0m\u001b[0;34m)\u001b[0m\u001b[0;34m\u001b[0m\u001b[0;34m\u001b[0m\u001b[0m\n\u001b[0m",
      "\u001b[0;32m/usr/local/lib/python3.8/site-packages/pandas/core/generic.py\u001b[0m in \u001b[0;36mto_csv\u001b[0;34m(self, path_or_buf, sep, na_rep, float_format, columns, header, index, index_label, mode, encoding, compression, quoting, quotechar, line_terminator, chunksize, date_format, doublequote, escapechar, decimal, errors)\u001b[0m\n\u001b[1;32m   3165\u001b[0m             \u001b[0mdecimal\u001b[0m\u001b[0;34m=\u001b[0m\u001b[0mdecimal\u001b[0m\u001b[0;34m,\u001b[0m\u001b[0;34m\u001b[0m\u001b[0;34m\u001b[0m\u001b[0m\n\u001b[1;32m   3166\u001b[0m         )\n\u001b[0;32m-> 3167\u001b[0;31m         \u001b[0mformatter\u001b[0m\u001b[0;34m.\u001b[0m\u001b[0msave\u001b[0m\u001b[0;34m(\u001b[0m\u001b[0;34m)\u001b[0m\u001b[0;34m\u001b[0m\u001b[0;34m\u001b[0m\u001b[0m\n\u001b[0m\u001b[1;32m   3168\u001b[0m \u001b[0;34m\u001b[0m\u001b[0m\n\u001b[1;32m   3169\u001b[0m         \u001b[0;32mif\u001b[0m \u001b[0mpath_or_buf\u001b[0m \u001b[0;32mis\u001b[0m \u001b[0;32mNone\u001b[0m\u001b[0;34m:\u001b[0m\u001b[0;34m\u001b[0m\u001b[0;34m\u001b[0m\u001b[0m\n",
      "\u001b[0;32m/usr/local/lib/python3.8/site-packages/pandas/io/formats/csvs.py\u001b[0m in \u001b[0;36msave\u001b[0;34m(self)\u001b[0m\n\u001b[1;32m    183\u001b[0m             \u001b[0mclose\u001b[0m \u001b[0;34m=\u001b[0m \u001b[0;32mFalse\u001b[0m\u001b[0;34m\u001b[0m\u001b[0;34m\u001b[0m\u001b[0m\n\u001b[1;32m    184\u001b[0m         \u001b[0;32melse\u001b[0m\u001b[0;34m:\u001b[0m\u001b[0;34m\u001b[0m\u001b[0;34m\u001b[0m\u001b[0m\n\u001b[0;32m--> 185\u001b[0;31m             f, handles = get_handle(\n\u001b[0m\u001b[1;32m    186\u001b[0m                 \u001b[0mself\u001b[0m\u001b[0;34m.\u001b[0m\u001b[0mpath_or_buf\u001b[0m\u001b[0;34m,\u001b[0m\u001b[0;34m\u001b[0m\u001b[0;34m\u001b[0m\u001b[0m\n\u001b[1;32m    187\u001b[0m                 \u001b[0mself\u001b[0m\u001b[0;34m.\u001b[0m\u001b[0mmode\u001b[0m\u001b[0;34m,\u001b[0m\u001b[0;34m\u001b[0m\u001b[0;34m\u001b[0m\u001b[0m\n",
      "\u001b[0;32m/usr/local/lib/python3.8/site-packages/pandas/io/common.py\u001b[0m in \u001b[0;36mget_handle\u001b[0;34m(path_or_buf, mode, encoding, compression, memory_map, is_text, errors)\u001b[0m\n\u001b[1;32m    491\u001b[0m         \u001b[0;32mif\u001b[0m \u001b[0mencoding\u001b[0m\u001b[0;34m:\u001b[0m\u001b[0;34m\u001b[0m\u001b[0;34m\u001b[0m\u001b[0m\n\u001b[1;32m    492\u001b[0m             \u001b[0;31m# Encoding\u001b[0m\u001b[0;34m\u001b[0m\u001b[0;34m\u001b[0m\u001b[0;34m\u001b[0m\u001b[0m\n\u001b[0;32m--> 493\u001b[0;31m             \u001b[0mf\u001b[0m \u001b[0;34m=\u001b[0m \u001b[0mopen\u001b[0m\u001b[0;34m(\u001b[0m\u001b[0mpath_or_buf\u001b[0m\u001b[0;34m,\u001b[0m \u001b[0mmode\u001b[0m\u001b[0;34m,\u001b[0m \u001b[0mencoding\u001b[0m\u001b[0;34m=\u001b[0m\u001b[0mencoding\u001b[0m\u001b[0;34m,\u001b[0m \u001b[0merrors\u001b[0m\u001b[0;34m=\u001b[0m\u001b[0merrors\u001b[0m\u001b[0;34m,\u001b[0m \u001b[0mnewline\u001b[0m\u001b[0;34m=\u001b[0m\u001b[0;34m\"\"\u001b[0m\u001b[0;34m)\u001b[0m\u001b[0;34m\u001b[0m\u001b[0;34m\u001b[0m\u001b[0m\n\u001b[0m\u001b[1;32m    494\u001b[0m         \u001b[0;32melif\u001b[0m \u001b[0mis_text\u001b[0m\u001b[0;34m:\u001b[0m\u001b[0;34m\u001b[0m\u001b[0;34m\u001b[0m\u001b[0m\n\u001b[1;32m    495\u001b[0m             \u001b[0;31m# No explicit encoding\u001b[0m\u001b[0;34m\u001b[0m\u001b[0;34m\u001b[0m\u001b[0;34m\u001b[0m\u001b[0m\n",
      "\u001b[0;31mFileNotFoundError\u001b[0m: [Errno 2] No such file or directory: 'ouput data/state_level.csv'"
     ]
    }
   ],
   "source": [
    "climate.round(2).to_csv(\"output data/climate.csv\", index=False)\n",
    "demographics.round(2).to_csv(\"output data/demographics.csv\", index=False)\n",
    "energy_employment.round(2).to_csv(\"output data/energy_employment.csv\", index=False)\n",
    "state_level.round(2).to_csv(\"ouput data/state_level.csv\", index=False)"
   ]
  },
  {
   "cell_type": "code",
   "execution_count": null,
   "metadata": {},
   "outputs": [],
   "source": []
  }
 ],
 "metadata": {
  "kernelspec": {
   "display_name": "Python 3",
   "language": "python",
   "name": "python3"
  },
  "language_info": {
   "codemirror_mode": {
    "name": "ipython",
    "version": 3
   },
   "file_extension": ".py",
   "mimetype": "text/x-python",
   "name": "python",
   "nbconvert_exporter": "python",
   "pygments_lexer": "ipython3",
   "version": "3.8.9"
  }
 },
 "nbformat": 4,
 "nbformat_minor": 4
}
