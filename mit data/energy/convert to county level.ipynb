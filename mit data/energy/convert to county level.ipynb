{
 "cells": [
  {
   "cell_type": "code",
   "execution_count": 6,
   "metadata": {},
   "outputs": [],
   "source": [
    "import us\n",
    "import pandas"
   ]
  },
  {
   "cell_type": "code",
   "execution_count": 46,
   "metadata": {},
   "outputs": [],
   "source": [
    "state_county = pandas.read_csv(\"state_county.csv\", dtype=\"str\")\n",
    "data = pandas.read_csv(\"input/state_level_raw.csv\")\n",
    "keep = [\n",
    "  \"statecode\",\n",
    "  \"TotalEnergyExpendituremilliondollars\",\n",
    "  \"Totalenergyexpenditurepercapitadollarspercapita\",\n",
    "  \"TotalResidentialEnergyExpendituremilliondollars\",\n",
    "  \"ResidentialEnergyExpenditurepercapitadollarspercapita\",\n",
    "  \"TotalTransportationEnergyExpendituremildollars\",\n",
    "  \"TransportationEnergyExpenditurepercapitadollars\"\n",
    "]\n",
    "data = data[keep]\n",
    "data[\"STATEFP\"] = data[\"statecode\"].apply(lambda x: str(x).zfill(2))\n",
    "del data[\"statecode\"]\n",
    "data = data.merge(state_county, on=\"STATEFP\")"
   ]
  },
  {
   "cell_type": "code",
   "execution_count": 48,
   "metadata": {},
   "outputs": [],
   "source": [
    "data.to_csv(\"output/energy.csv\", index=None)"
   ]
  },
  {
   "cell_type": "code",
   "execution_count": null,
   "metadata": {},
   "outputs": [],
   "source": []
  }
 ],
 "metadata": {
  "kernelspec": {
   "display_name": "Python 3",
   "language": "python",
   "name": "python3"
  },
  "language_info": {
   "codemirror_mode": {
    "name": "ipython",
    "version": 3
   },
   "file_extension": ".py",
   "mimetype": "text/x-python",
   "name": "python",
   "nbconvert_exporter": "python",
   "pygments_lexer": "ipython3",
   "version": "3.8.10"
  }
 },
 "nbformat": 4,
 "nbformat_minor": 4
}
