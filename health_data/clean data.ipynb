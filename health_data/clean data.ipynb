{
 "cells": [
  {
   "cell_type": "code",
   "execution_count": 90,
   "metadata": {},
   "outputs": [],
   "source": [
    "import pandas\n",
    "import numpy\n",
    "pandas.options.mode.chained_assignment = None"
   ]
  },
  {
   "cell_type": "code",
   "execution_count": 91,
   "metadata": {},
   "outputs": [],
   "source": [
    "circulatory_mortality = pandas.read_csv(\"input/Circulatory Mortality.csv\")\n",
    "respiratory_mortality = pandas.read_csv(\"input/Respiratory Mortality.csv\")\n",
    "all_causes_mortality = pandas.read_csv(\"input/All Cause Mortality.csv\")\n",
    "all_data = [circulatory_mortality, respiratory_mortality, all_causes_mortality]"
   ]
  },
  {
   "cell_type": "code",
   "execution_count": 92,
   "metadata": {},
   "outputs": [],
   "source": [
    "def convert_ids_to_int(df):\n",
    "    df = df[df[\"State ANSI\"].notnull()]\n",
    "    df[\"STATEFP\"] = pandas.to_numeric(df[\"State ANSI\"], downcast=\"integer\")\n",
    "    df[\"COUNTYFP\"] = pandas.to_numeric(df[\"County ANSI\"], downcast=\"integer\")\n",
    "    return df.drop(columns=[\"State ANSI\", \"County ANSI\"])"
   ]
  },
  {
   "cell_type": "code",
   "execution_count": 93,
   "metadata": {},
   "outputs": [],
   "source": [
    "circulatory_mortality = convert_ids_to_int(circulatory_mortality)\n",
    "respiratory_mortality = convert_ids_to_int(respiratory_mortality)\n",
    "all_causes_mortality = convert_ids_to_int(all_causes_mortality)"
   ]
  },
  {
   "cell_type": "code",
   "execution_count": 100,
   "metadata": {},
   "outputs": [],
   "source": [
    "circulatory_mortality.to_csv(\"output/circulatory_mortality.csv\", index=None)\n",
    "respiratory_mortality.to_csv(\"output/respiratory_mortality.csv\", index=None)\n",
    "all_causes_mortality.to_csv(\"output/all_causes_mortality.csv\", index=None)"
   ]
  },
  {
   "cell_type": "code",
   "execution_count": null,
   "metadata": {},
   "outputs": [],
   "source": []
  }
 ],
 "metadata": {
  "kernelspec": {
   "display_name": "Python 3",
   "language": "python",
   "name": "python3"
  },
  "language_info": {
   "codemirror_mode": {
    "name": "ipython",
    "version": 3
   },
   "file_extension": ".py",
   "mimetype": "text/x-python",
   "name": "python",
   "nbconvert_exporter": "python",
   "pygments_lexer": "ipython3",
   "version": "3.8.10"
  }
 },
 "nbformat": 4,
 "nbformat_minor": 4
}
